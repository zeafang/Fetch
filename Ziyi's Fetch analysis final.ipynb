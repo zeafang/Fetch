{
 "cells": [
  {
   "cell_type": "markdown",
   "id": "596c7c0c",
   "metadata": {},
   "source": [
    "# 1. Data Exploration"
   ]
  },
  {
   "cell_type": "markdown",
   "id": "a5e09b38",
   "metadata": {},
   "source": [
    "## Are there any data quality issues present?\n",
    "\n",
    "### Yes, there are duplicated entries and missing data for each table.\n",
    "\n",
    "#### USER_ID and PRODUCT_ID are missing in the User and Product tables: Approximately 50K transaction records do not have corresponding users in the User table; approximately 25K transaction records do not have corresponding products in the Product table.\n",
    "#### Duplicate RECEIPT_IDs and transaction records were found in the Transaction table."
   ]
  },
  {
   "cell_type": "code",
   "execution_count": 51,
   "id": "e4302716",
   "metadata": {
    "pycharm": {
     "is_executing": true
    }
   },
   "outputs": [],
   "source": [
    "import pandas as pd\n",
    "import numpy as np\n",
    "from IPython.display import display\n",
    "import sqlite3 as sql\n",
    "import matplotlib.pyplot as plt\n",
    "import seaborn as sns\n",
    "import warnings \n",
    "warnings.filterwarnings('ignore')"
   ]
  },
  {
   "cell_type": "code",
   "execution_count": 52,
   "id": "51481c76",
   "metadata": {},
   "outputs": [],
   "source": [
    "# Create SQLite connection\n",
    "connect= sql.connect(\"data.db\")\n",
    "\n",
    "# Load csv to a Dataframe\n",
    "df_pd=pd.read_csv(\"PRODUCTS_TAKEHOME.csv\")\n",
    "df_tr=pd.read_csv(\"TRANSACTION_TAKEHOME.csv\")\n",
    "df_ur=pd.read_csv(\"USER_TAKEHOME.csv\")\n",
    "\n"
   ]
  },
  {
   "cell_type": "markdown",
   "id": "be517e80",
   "metadata": {},
   "source": [
    "## 1.1 Understanding the Data Structure"
   ]
  },
  {
   "cell_type": "code",
   "execution_count": 53,
   "id": "6db9dc23",
   "metadata": {},
   "outputs": [],
   "source": [
    "dataset={\"Products\":df_pd,\"Transactions\":df_tr,\"Users\":df_ur}"
   ]
  },
  {
   "cell_type": "code",
   "execution_count": 75,
   "id": "8d4f5576",
   "metadata": {
    "scrolled": false
   },
   "outputs": [
    {
     "name": "stdout",
     "output_type": "stream",
     "text": [
      "\n",
      "Products Head:\n"
     ]
    },
    {
     "data": {
      "text/html": [
       "<div>\n",
       "<style scoped>\n",
       "    .dataframe tbody tr th:only-of-type {\n",
       "        vertical-align: middle;\n",
       "    }\n",
       "\n",
       "    .dataframe tbody tr th {\n",
       "        vertical-align: top;\n",
       "    }\n",
       "\n",
       "    .dataframe thead th {\n",
       "        text-align: right;\n",
       "    }\n",
       "</style>\n",
       "<table border=\"1\" class=\"dataframe\">\n",
       "  <thead>\n",
       "    <tr style=\"text-align: right;\">\n",
       "      <th></th>\n",
       "      <th>CATEGORY_1</th>\n",
       "      <th>CATEGORY_2</th>\n",
       "      <th>CATEGORY_3</th>\n",
       "      <th>CATEGORY_4</th>\n",
       "      <th>MANUFACTURER</th>\n",
       "      <th>BRAND</th>\n",
       "      <th>BARCODE</th>\n",
       "    </tr>\n",
       "  </thead>\n",
       "  <tbody>\n",
       "    <tr>\n",
       "      <th>0</th>\n",
       "      <td>Health &amp; Wellness</td>\n",
       "      <td>Sexual Health</td>\n",
       "      <td>Conductivity Gels &amp; Lotions</td>\n",
       "      <td>NaN</td>\n",
       "      <td>NaN</td>\n",
       "      <td>NaN</td>\n",
       "      <td>796494407820.00</td>\n",
       "    </tr>\n",
       "    <tr>\n",
       "      <th>1</th>\n",
       "      <td>Snacks</td>\n",
       "      <td>Puffed Snacks</td>\n",
       "      <td>Cheese Curls &amp; Puffs</td>\n",
       "      <td>NaN</td>\n",
       "      <td>NaN</td>\n",
       "      <td>NaN</td>\n",
       "      <td>23278011028.00</td>\n",
       "    </tr>\n",
       "    <tr>\n",
       "      <th>2</th>\n",
       "      <td>Health &amp; Wellness</td>\n",
       "      <td>Hair Care</td>\n",
       "      <td>Hair Care Accessories</td>\n",
       "      <td>NaN</td>\n",
       "      <td>PLACEHOLDER MANUFACTURER</td>\n",
       "      <td>ELECSOP</td>\n",
       "      <td>461817824225.00</td>\n",
       "    </tr>\n",
       "    <tr>\n",
       "      <th>3</th>\n",
       "      <td>Health &amp; Wellness</td>\n",
       "      <td>Oral Care</td>\n",
       "      <td>Toothpaste</td>\n",
       "      <td>NaN</td>\n",
       "      <td>COLGATE-PALMOLIVE</td>\n",
       "      <td>COLGATE</td>\n",
       "      <td>35000466815.00</td>\n",
       "    </tr>\n",
       "    <tr>\n",
       "      <th>4</th>\n",
       "      <td>Health &amp; Wellness</td>\n",
       "      <td>Medicines &amp; Treatments</td>\n",
       "      <td>Essential Oils</td>\n",
       "      <td>NaN</td>\n",
       "      <td>MAPLE HOLISTICS AND HONEYDEW PRODUCTS INTERCHA...</td>\n",
       "      <td>MAPLE HOLISTICS</td>\n",
       "      <td>806810850459.00</td>\n",
       "    </tr>\n",
       "  </tbody>\n",
       "</table>\n",
       "</div>"
      ],
      "text/plain": [
       "          CATEGORY_1              CATEGORY_2                   CATEGORY_3  \\\n",
       "0  Health & Wellness           Sexual Health  Conductivity Gels & Lotions   \n",
       "1             Snacks           Puffed Snacks         Cheese Curls & Puffs   \n",
       "2  Health & Wellness               Hair Care        Hair Care Accessories   \n",
       "3  Health & Wellness               Oral Care                   Toothpaste   \n",
       "4  Health & Wellness  Medicines & Treatments               Essential Oils   \n",
       "\n",
       "  CATEGORY_4                                       MANUFACTURER  \\\n",
       "0        NaN                                                NaN   \n",
       "1        NaN                                                NaN   \n",
       "2        NaN                           PLACEHOLDER MANUFACTURER   \n",
       "3        NaN                                  COLGATE-PALMOLIVE   \n",
       "4        NaN  MAPLE HOLISTICS AND HONEYDEW PRODUCTS INTERCHA...   \n",
       "\n",
       "             BRAND         BARCODE  \n",
       "0              NaN 796494407820.00  \n",
       "1              NaN  23278011028.00  \n",
       "2          ELECSOP 461817824225.00  \n",
       "3          COLGATE  35000466815.00  \n",
       "4  MAPLE HOLISTICS 806810850459.00  "
      ]
     },
     "metadata": {},
     "output_type": "display_data"
    },
    {
     "name": "stdout",
     "output_type": "stream",
     "text": [
      "\n",
      "Transactions Head:\n"
     ]
    },
    {
     "data": {
      "text/html": [
       "<div>\n",
       "<style scoped>\n",
       "    .dataframe tbody tr th:only-of-type {\n",
       "        vertical-align: middle;\n",
       "    }\n",
       "\n",
       "    .dataframe tbody tr th {\n",
       "        vertical-align: top;\n",
       "    }\n",
       "\n",
       "    .dataframe thead th {\n",
       "        text-align: right;\n",
       "    }\n",
       "</style>\n",
       "<table border=\"1\" class=\"dataframe\">\n",
       "  <thead>\n",
       "    <tr style=\"text-align: right;\">\n",
       "      <th></th>\n",
       "      <th>RECEIPT_ID</th>\n",
       "      <th>PURCHASE_DATE</th>\n",
       "      <th>SCAN_DATE</th>\n",
       "      <th>STORE_NAME</th>\n",
       "      <th>USER_ID</th>\n",
       "      <th>BARCODE</th>\n",
       "      <th>FINAL_QUANTITY</th>\n",
       "      <th>FINAL_SALE</th>\n",
       "    </tr>\n",
       "  </thead>\n",
       "  <tbody>\n",
       "    <tr>\n",
       "      <th>0</th>\n",
       "      <td>0000d256-4041-4a3e-adc4-5623fb6e0c99</td>\n",
       "      <td>2024-08-21</td>\n",
       "      <td>2024-08-21 14:19:06.539 Z</td>\n",
       "      <td>WALMART</td>\n",
       "      <td>63b73a7f3d310dceeabd4758</td>\n",
       "      <td>15300014978.00</td>\n",
       "      <td>1.00</td>\n",
       "      <td></td>\n",
       "    </tr>\n",
       "    <tr>\n",
       "      <th>1</th>\n",
       "      <td>0001455d-7a92-4a7b-a1d2-c747af1c8fd3</td>\n",
       "      <td>2024-07-20</td>\n",
       "      <td>2024-07-20 09:50:24.206 Z</td>\n",
       "      <td>ALDI</td>\n",
       "      <td>62c08877baa38d1a1f6c211a</td>\n",
       "      <td>NaN</td>\n",
       "      <td>zero</td>\n",
       "      <td>1.49</td>\n",
       "    </tr>\n",
       "    <tr>\n",
       "      <th>2</th>\n",
       "      <td>00017e0a-7851-42fb-bfab-0baa96e23586</td>\n",
       "      <td>2024-08-18</td>\n",
       "      <td>2024-08-19 15:38:56.813 Z</td>\n",
       "      <td>WALMART</td>\n",
       "      <td>60842f207ac8b7729e472020</td>\n",
       "      <td>78742229751.00</td>\n",
       "      <td>1.00</td>\n",
       "      <td></td>\n",
       "    </tr>\n",
       "    <tr>\n",
       "      <th>3</th>\n",
       "      <td>000239aa-3478-453d-801e-66a82e39c8af</td>\n",
       "      <td>2024-06-18</td>\n",
       "      <td>2024-06-19 11:03:37.468 Z</td>\n",
       "      <td>FOOD LION</td>\n",
       "      <td>63fcd7cea4f8442c3386b589</td>\n",
       "      <td>783399746536.00</td>\n",
       "      <td>zero</td>\n",
       "      <td>3.49</td>\n",
       "    </tr>\n",
       "    <tr>\n",
       "      <th>4</th>\n",
       "      <td>00026b4c-dfe8-49dd-b026-4c2f0fd5c6a1</td>\n",
       "      <td>2024-07-04</td>\n",
       "      <td>2024-07-05 15:56:43.549 Z</td>\n",
       "      <td>RANDALLS</td>\n",
       "      <td>6193231ae9b3d75037b0f928</td>\n",
       "      <td>47900501183.00</td>\n",
       "      <td>1.00</td>\n",
       "      <td></td>\n",
       "    </tr>\n",
       "  </tbody>\n",
       "</table>\n",
       "</div>"
      ],
      "text/plain": [
       "                             RECEIPT_ID PURCHASE_DATE  \\\n",
       "0  0000d256-4041-4a3e-adc4-5623fb6e0c99    2024-08-21   \n",
       "1  0001455d-7a92-4a7b-a1d2-c747af1c8fd3    2024-07-20   \n",
       "2  00017e0a-7851-42fb-bfab-0baa96e23586    2024-08-18   \n",
       "3  000239aa-3478-453d-801e-66a82e39c8af    2024-06-18   \n",
       "4  00026b4c-dfe8-49dd-b026-4c2f0fd5c6a1    2024-07-04   \n",
       "\n",
       "                   SCAN_DATE STORE_NAME                   USER_ID  \\\n",
       "0  2024-08-21 14:19:06.539 Z    WALMART  63b73a7f3d310dceeabd4758   \n",
       "1  2024-07-20 09:50:24.206 Z       ALDI  62c08877baa38d1a1f6c211a   \n",
       "2  2024-08-19 15:38:56.813 Z    WALMART  60842f207ac8b7729e472020   \n",
       "3  2024-06-19 11:03:37.468 Z  FOOD LION  63fcd7cea4f8442c3386b589   \n",
       "4  2024-07-05 15:56:43.549 Z   RANDALLS  6193231ae9b3d75037b0f928   \n",
       "\n",
       "          BARCODE FINAL_QUANTITY FINAL_SALE  \n",
       "0  15300014978.00           1.00             \n",
       "1             NaN           zero       1.49  \n",
       "2  78742229751.00           1.00             \n",
       "3 783399746536.00           zero       3.49  \n",
       "4  47900501183.00           1.00             "
      ]
     },
     "metadata": {},
     "output_type": "display_data"
    },
    {
     "name": "stdout",
     "output_type": "stream",
     "text": [
      "\n",
      "Users Head:\n"
     ]
    },
    {
     "data": {
      "text/html": [
       "<div>\n",
       "<style scoped>\n",
       "    .dataframe tbody tr th:only-of-type {\n",
       "        vertical-align: middle;\n",
       "    }\n",
       "\n",
       "    .dataframe tbody tr th {\n",
       "        vertical-align: top;\n",
       "    }\n",
       "\n",
       "    .dataframe thead th {\n",
       "        text-align: right;\n",
       "    }\n",
       "</style>\n",
       "<table border=\"1\" class=\"dataframe\">\n",
       "  <thead>\n",
       "    <tr style=\"text-align: right;\">\n",
       "      <th></th>\n",
       "      <th>ID</th>\n",
       "      <th>CREATED_DATE</th>\n",
       "      <th>BIRTH_DATE</th>\n",
       "      <th>STATE</th>\n",
       "      <th>LANGUAGE</th>\n",
       "      <th>GENDER</th>\n",
       "    </tr>\n",
       "  </thead>\n",
       "  <tbody>\n",
       "    <tr>\n",
       "      <th>0</th>\n",
       "      <td>5ef3b4f17053ab141787697d</td>\n",
       "      <td>2020-06-24 20:17:54.000 Z</td>\n",
       "      <td>2000-08-11 00:00:00.000 Z</td>\n",
       "      <td>CA</td>\n",
       "      <td>es-419</td>\n",
       "      <td>female</td>\n",
       "    </tr>\n",
       "    <tr>\n",
       "      <th>1</th>\n",
       "      <td>5ff220d383fcfc12622b96bc</td>\n",
       "      <td>2021-01-03 19:53:55.000 Z</td>\n",
       "      <td>2001-09-24 04:00:00.000 Z</td>\n",
       "      <td>PA</td>\n",
       "      <td>en</td>\n",
       "      <td>female</td>\n",
       "    </tr>\n",
       "    <tr>\n",
       "      <th>2</th>\n",
       "      <td>6477950aa55bb77a0e27ee10</td>\n",
       "      <td>2023-05-31 18:42:18.000 Z</td>\n",
       "      <td>1994-10-28 00:00:00.000 Z</td>\n",
       "      <td>FL</td>\n",
       "      <td>es-419</td>\n",
       "      <td>female</td>\n",
       "    </tr>\n",
       "    <tr>\n",
       "      <th>3</th>\n",
       "      <td>658a306e99b40f103b63ccf8</td>\n",
       "      <td>2023-12-26 01:46:22.000 Z</td>\n",
       "      <td>NaN</td>\n",
       "      <td>NC</td>\n",
       "      <td>en</td>\n",
       "      <td>NaN</td>\n",
       "    </tr>\n",
       "    <tr>\n",
       "      <th>4</th>\n",
       "      <td>653cf5d6a225ea102b7ecdc2</td>\n",
       "      <td>2023-10-28 11:51:50.000 Z</td>\n",
       "      <td>1972-03-19 00:00:00.000 Z</td>\n",
       "      <td>PA</td>\n",
       "      <td>en</td>\n",
       "      <td>female</td>\n",
       "    </tr>\n",
       "  </tbody>\n",
       "</table>\n",
       "</div>"
      ],
      "text/plain": [
       "                         ID               CREATED_DATE  \\\n",
       "0  5ef3b4f17053ab141787697d  2020-06-24 20:17:54.000 Z   \n",
       "1  5ff220d383fcfc12622b96bc  2021-01-03 19:53:55.000 Z   \n",
       "2  6477950aa55bb77a0e27ee10  2023-05-31 18:42:18.000 Z   \n",
       "3  658a306e99b40f103b63ccf8  2023-12-26 01:46:22.000 Z   \n",
       "4  653cf5d6a225ea102b7ecdc2  2023-10-28 11:51:50.000 Z   \n",
       "\n",
       "                  BIRTH_DATE STATE LANGUAGE  GENDER  \n",
       "0  2000-08-11 00:00:00.000 Z    CA   es-419  female  \n",
       "1  2001-09-24 04:00:00.000 Z    PA       en  female  \n",
       "2  1994-10-28 00:00:00.000 Z    FL   es-419  female  \n",
       "3                        NaN    NC       en     NaN  \n",
       "4  1972-03-19 00:00:00.000 Z    PA       en  female  "
      ]
     },
     "metadata": {},
     "output_type": "display_data"
    }
   ],
   "source": [
    "for name,df in dataset.items():\n",
    "    print(f\"\\n{name} Head:\")\n",
    "    display(df.head(5))"
   ]
  },
  {
   "cell_type": "code",
   "execution_count": 55,
   "id": "d2999249",
   "metadata": {},
   "outputs": [],
   "source": [
    "pd.options.display.float_format = '{:.2f}'.format  # Adjust decimal places as needed\n"
   ]
  },
  {
   "cell_type": "code",
   "execution_count": 57,
   "id": "a3e1d5e4",
   "metadata": {
    "scrolled": true
   },
   "outputs": [
    {
     "name": "stdout",
     "output_type": "stream",
     "text": [
      "\n",
      "Products info:\n",
      "<class 'pandas.core.frame.DataFrame'>\n",
      "RangeIndex: 845552 entries, 0 to 845551\n",
      "Data columns (total 7 columns):\n",
      " #   Column        Non-Null Count   Dtype  \n",
      "---  ------        --------------   -----  \n",
      " 0   CATEGORY_1    845441 non-null  object \n",
      " 1   CATEGORY_2    844128 non-null  object \n",
      " 2   CATEGORY_3    784986 non-null  object \n",
      " 3   CATEGORY_4    67459 non-null   object \n",
      " 4   MANUFACTURER  619078 non-null  object \n",
      " 5   BRAND         619080 non-null  object \n",
      " 6   BARCODE       841527 non-null  float64\n",
      "dtypes: float64(1), object(6)\n",
      "memory usage: 45.2+ MB\n"
     ]
    },
    {
     "data": {
      "text/plain": [
       "None"
      ]
     },
     "metadata": {},
     "output_type": "display_data"
    },
    {
     "name": "stdout",
     "output_type": "stream",
     "text": [
      "\n",
      "Transactions info:\n",
      "<class 'pandas.core.frame.DataFrame'>\n",
      "RangeIndex: 50000 entries, 0 to 49999\n",
      "Data columns (total 8 columns):\n",
      " #   Column          Non-Null Count  Dtype  \n",
      "---  ------          --------------  -----  \n",
      " 0   RECEIPT_ID      50000 non-null  object \n",
      " 1   PURCHASE_DATE   50000 non-null  object \n",
      " 2   SCAN_DATE       50000 non-null  object \n",
      " 3   STORE_NAME      50000 non-null  object \n",
      " 4   USER_ID         50000 non-null  object \n",
      " 5   BARCODE         44238 non-null  float64\n",
      " 6   FINAL_QUANTITY  50000 non-null  object \n",
      " 7   FINAL_SALE      50000 non-null  object \n",
      "dtypes: float64(1), object(7)\n",
      "memory usage: 3.1+ MB\n"
     ]
    },
    {
     "data": {
      "text/plain": [
       "None"
      ]
     },
     "metadata": {},
     "output_type": "display_data"
    },
    {
     "name": "stdout",
     "output_type": "stream",
     "text": [
      "\n",
      "Users info:\n",
      "<class 'pandas.core.frame.DataFrame'>\n",
      "RangeIndex: 100000 entries, 0 to 99999\n",
      "Data columns (total 6 columns):\n",
      " #   Column        Non-Null Count   Dtype \n",
      "---  ------        --------------   ----- \n",
      " 0   ID            100000 non-null  object\n",
      " 1   CREATED_DATE  100000 non-null  object\n",
      " 2   BIRTH_DATE    96325 non-null   object\n",
      " 3   STATE         95188 non-null   object\n",
      " 4   LANGUAGE      69492 non-null   object\n",
      " 5   GENDER        94108 non-null   object\n",
      "dtypes: object(6)\n",
      "memory usage: 4.6+ MB\n"
     ]
    },
    {
     "data": {
      "text/plain": [
       "None"
      ]
     },
     "metadata": {},
     "output_type": "display_data"
    }
   ],
   "source": [
    "for name,df in dataset.items():\n",
    "    print(f\"\\n{name} info:\")\n",
    "    display(df.info())"
   ]
  },
  {
   "cell_type": "markdown",
   "id": "767ea7ee",
   "metadata": {},
   "source": [
    "## Check Duplicates"
   ]
  },
  {
   "cell_type": "code",
   "execution_count": 58,
   "id": "1a6e8371",
   "metadata": {
    "scrolled": true
   },
   "outputs": [
    {
     "name": "stdout",
     "output_type": "stream",
     "text": [
      "\n",
      "Products duplicates:\n"
     ]
    },
    {
     "data": {
      "text/plain": [
       "215"
      ]
     },
     "metadata": {},
     "output_type": "display_data"
    },
    {
     "name": "stdout",
     "output_type": "stream",
     "text": [
      "\n",
      "Transactions duplicates:\n"
     ]
    },
    {
     "data": {
      "text/plain": [
       "171"
      ]
     },
     "metadata": {},
     "output_type": "display_data"
    },
    {
     "name": "stdout",
     "output_type": "stream",
     "text": [
      "\n",
      "Users duplicates:\n"
     ]
    },
    {
     "data": {
      "text/plain": [
       "0"
      ]
     },
     "metadata": {},
     "output_type": "display_data"
    }
   ],
   "source": [
    "for name,df in dataset.items():\n",
    "    print(f\"\\n{name} duplicates:\")\n",
    "    display(df.duplicated().sum())"
   ]
  },
  {
   "cell_type": "markdown",
   "id": "63f975b4",
   "metadata": {},
   "source": [
    "## Drop Duplicates"
   ]
  },
  {
   "cell_type": "code",
   "execution_count": 59,
   "id": "fee7bfcb",
   "metadata": {},
   "outputs": [
    {
     "name": "stdout",
     "output_type": "stream",
     "text": [
      "\n",
      "Products droped duplicates:\n"
     ]
    },
    {
     "data": {
      "text/plain": [
       "0"
      ]
     },
     "metadata": {},
     "output_type": "display_data"
    },
    {
     "name": "stdout",
     "output_type": "stream",
     "text": [
      "\n",
      "Transactions droped duplicates:\n"
     ]
    },
    {
     "data": {
      "text/plain": [
       "0"
      ]
     },
     "metadata": {},
     "output_type": "display_data"
    },
    {
     "name": "stdout",
     "output_type": "stream",
     "text": [
      "\n",
      "Users droped duplicates:\n"
     ]
    },
    {
     "data": {
      "text/plain": [
       "0"
      ]
     },
     "metadata": {},
     "output_type": "display_data"
    }
   ],
   "source": [
    "for name,df in dataset.items():\n",
    "    df=df.drop_duplicates()\n",
    "    print(f\"\\n{name} droped duplicates:\")\n",
    "    display(df.duplicated().sum())"
   ]
  },
  {
   "cell_type": "markdown",
   "id": "a6506003",
   "metadata": {},
   "source": [
    "## Check Missing Data"
   ]
  },
  {
   "cell_type": "code",
   "execution_count": 60,
   "id": "d9eb8ad2",
   "metadata": {},
   "outputs": [
    {
     "name": "stdout",
     "output_type": "stream",
     "text": [
      "\n",
      "Products Missing data:\n"
     ]
    },
    {
     "data": {
      "text/plain": [
       "CATEGORY_1         111\n",
       "CATEGORY_2        1424\n",
       "CATEGORY_3       60566\n",
       "CATEGORY_4      778093\n",
       "MANUFACTURER    226474\n",
       "BRAND           226472\n",
       "BARCODE           4025\n",
       "dtype: int64"
      ]
     },
     "metadata": {},
     "output_type": "display_data"
    },
    {
     "name": "stdout",
     "output_type": "stream",
     "text": [
      "\n",
      "Transactions Missing data:\n"
     ]
    },
    {
     "data": {
      "text/plain": [
       "RECEIPT_ID           0\n",
       "PURCHASE_DATE        0\n",
       "SCAN_DATE            0\n",
       "STORE_NAME           0\n",
       "USER_ID              0\n",
       "BARCODE           5762\n",
       "FINAL_QUANTITY       0\n",
       "FINAL_SALE           0\n",
       "dtype: int64"
      ]
     },
     "metadata": {},
     "output_type": "display_data"
    },
    {
     "name": "stdout",
     "output_type": "stream",
     "text": [
      "\n",
      "Users Missing data:\n"
     ]
    },
    {
     "data": {
      "text/plain": [
       "ID                  0\n",
       "CREATED_DATE        0\n",
       "BIRTH_DATE       3675\n",
       "STATE            4812\n",
       "LANGUAGE        30508\n",
       "GENDER           5892\n",
       "dtype: int64"
      ]
     },
     "metadata": {},
     "output_type": "display_data"
    }
   ],
   "source": [
    "for name,df in dataset.items():\n",
    "    print(f\"\\n{name} Missing data:\")\n",
    "    display(df.isnull().sum())"
   ]
  },
  {
   "cell_type": "code",
   "execution_count": 61,
   "id": "b9d63a6a",
   "metadata": {},
   "outputs": [
    {
     "data": {
      "text/html": [
       "<div>\n",
       "<style scoped>\n",
       "    .dataframe tbody tr th:only-of-type {\n",
       "        vertical-align: middle;\n",
       "    }\n",
       "\n",
       "    .dataframe tbody tr th {\n",
       "        vertical-align: top;\n",
       "    }\n",
       "\n",
       "    .dataframe thead th {\n",
       "        text-align: right;\n",
       "    }\n",
       "</style>\n",
       "<table border=\"1\" class=\"dataframe\">\n",
       "  <thead>\n",
       "    <tr style=\"text-align: right;\">\n",
       "      <th></th>\n",
       "      <th>count(*)</th>\n",
       "    </tr>\n",
       "  </thead>\n",
       "  <tbody>\n",
       "    <tr>\n",
       "      <th>0</th>\n",
       "      <td>49738</td>\n",
       "    </tr>\n",
       "  </tbody>\n",
       "</table>\n",
       "</div>"
      ],
      "text/plain": [
       "   count(*)\n",
       "0     49738"
      ]
     },
     "metadata": {},
     "output_type": "display_data"
    }
   ],
   "source": [
    "# Save DataFrame as a table in SQLite\n",
    "\n",
    "for name,df in dataset.items():\n",
    "    df.to_sql(name,connect,if_exists=\"replace\",index=False)\n",
    "\n",
    "query= \"Select count(*) from Transactions t left join Users u on u.id=t.user_id where u.id is null\"\n",
    "result=pd.read_sql(query,connect)\n",
    "display(result)"
   ]
  },
  {
   "cell_type": "code",
   "execution_count": null,
   "id": "f6a2269b",
   "metadata": {},
   "outputs": [],
   "source": []
  },
  {
   "cell_type": "code",
   "execution_count": 62,
   "id": "bda0e693",
   "metadata": {
    "scrolled": true
   },
   "outputs": [
    {
     "data": {
      "text/html": [
       "<div>\n",
       "<style scoped>\n",
       "    .dataframe tbody tr th:only-of-type {\n",
       "        vertical-align: middle;\n",
       "    }\n",
       "\n",
       "    .dataframe tbody tr th {\n",
       "        vertical-align: top;\n",
       "    }\n",
       "\n",
       "    .dataframe thead th {\n",
       "        text-align: right;\n",
       "    }\n",
       "</style>\n",
       "<table border=\"1\" class=\"dataframe\">\n",
       "  <thead>\n",
       "    <tr style=\"text-align: right;\">\n",
       "      <th></th>\n",
       "      <th>count(*)</th>\n",
       "    </tr>\n",
       "  </thead>\n",
       "  <tbody>\n",
       "    <tr>\n",
       "      <th>0</th>\n",
       "      <td>25170</td>\n",
       "    </tr>\n",
       "  </tbody>\n",
       "</table>\n",
       "</div>"
      ],
      "text/plain": [
       "   count(*)\n",
       "0     25170"
      ]
     },
     "metadata": {},
     "output_type": "display_data"
    }
   ],
   "source": [
    "query= \"Select count(*) from Transactions t left join Product p on p.barcode=t.barcode where p.barcode is null\"\n",
    "result=pd.read_sql(query,connect)\n",
    "display(result)"
   ]
  },
  {
   "cell_type": "markdown",
   "id": "5c6e2f89",
   "metadata": {},
   "source": [
    "---"
   ]
  },
  {
   "cell_type": "markdown",
   "id": "743a56e9",
   "metadata": {},
   "source": [
    "# 2. provide SQL queries\n"
   ]
  },
  {
   "cell_type": "markdown",
   "id": "84a51feb",
   "metadata": {},
   "source": [
    "## Closed-ended question 1: What are the top 5 brands by receipts scanned among users 21 and over?\n"
   ]
  },
  {
   "cell_type": "code",
   "execution_count": 63,
   "id": "02f7c532",
   "metadata": {},
   "outputs": [
    {
     "data": {
      "text/html": [
       "<div>\n",
       "<style scoped>\n",
       "    .dataframe tbody tr th:only-of-type {\n",
       "        vertical-align: middle;\n",
       "    }\n",
       "\n",
       "    .dataframe tbody tr th {\n",
       "        vertical-align: top;\n",
       "    }\n",
       "\n",
       "    .dataframe thead th {\n",
       "        text-align: right;\n",
       "    }\n",
       "</style>\n",
       "<table border=\"1\" class=\"dataframe\">\n",
       "  <thead>\n",
       "    <tr style=\"text-align: right;\">\n",
       "      <th></th>\n",
       "      <th>brand</th>\n",
       "      <th>total_transactions</th>\n",
       "    </tr>\n",
       "  </thead>\n",
       "  <tbody>\n",
       "    <tr>\n",
       "      <th>0</th>\n",
       "      <td>NERDS CANDY</td>\n",
       "      <td>6</td>\n",
       "    </tr>\n",
       "    <tr>\n",
       "      <th>1</th>\n",
       "      <td>DOVE</td>\n",
       "      <td>6</td>\n",
       "    </tr>\n",
       "    <tr>\n",
       "      <th>2</th>\n",
       "      <td>TRIDENT</td>\n",
       "      <td>4</td>\n",
       "    </tr>\n",
       "    <tr>\n",
       "      <th>3</th>\n",
       "      <td>SOUR PATCH KIDS</td>\n",
       "      <td>4</td>\n",
       "    </tr>\n",
       "    <tr>\n",
       "      <th>4</th>\n",
       "      <td>MEIJER</td>\n",
       "      <td>4</td>\n",
       "    </tr>\n",
       "  </tbody>\n",
       "</table>\n",
       "</div>"
      ],
      "text/plain": [
       "             brand  total_transactions\n",
       "0      NERDS CANDY                   6\n",
       "1             DOVE                   6\n",
       "2          TRIDENT                   4\n",
       "3  SOUR PATCH KIDS                   4\n",
       "4           MEIJER                   4"
      ]
     },
     "metadata": {},
     "output_type": "display_data"
    }
   ],
   "source": [
    "query = \"\"\"\n",
    "WITH cte AS (\n",
    "    SELECT COUNT(t.RECEIPT_ID) AS transaction_count,\n",
    "           p.brand AS brand,\n",
    "           CAST((JULIANDAY(SUBSTR(t.SCAN_DATE, 1, 19)) - JULIANDAY(SUBSTR(u.birth_date, 1, 19))) / 365 AS INTEGER) AS year_diff\n",
    "    FROM Transactions t\n",
    "    LEFT JOIN Users u ON u.id = t.user_id\n",
    "    LEFT JOIN Products p ON p.barcode = t.barcode\n",
    "    GROUP BY brand, year_diff\n",
    "    HAVING year_diff > 21 AND brand IS NOT NULL\n",
    ")\n",
    "\n",
    "SELECT brand, SUM(transaction_count) AS total_transactions\n",
    "FROM cte\n",
    "GROUP BY brand\n",
    "ORDER BY total_transactions DESC\n",
    "LIMIT 5;\n",
    "\n",
    "\"\"\"\n",
    "result=pd.read_sql(query,connect)\n",
    "display(result)"
   ]
  },
  {
   "cell_type": "markdown",
   "id": "0fb3964c",
   "metadata": {},
   "source": [
    "## Closed-ended question 2: What are the top 5 brands by sales among users that have had their account for at least six months?"
   ]
  },
  {
   "cell_type": "code",
   "execution_count": 64,
   "id": "f710d8e4",
   "metadata": {
    "scrolled": true
   },
   "outputs": [
    {
     "data": {
      "text/html": [
       "<div>\n",
       "<style scoped>\n",
       "    .dataframe tbody tr th:only-of-type {\n",
       "        vertical-align: middle;\n",
       "    }\n",
       "\n",
       "    .dataframe tbody tr th {\n",
       "        vertical-align: top;\n",
       "    }\n",
       "\n",
       "    .dataframe thead th {\n",
       "        text-align: right;\n",
       "    }\n",
       "</style>\n",
       "<table border=\"1\" class=\"dataframe\">\n",
       "  <thead>\n",
       "    <tr style=\"text-align: right;\">\n",
       "      <th></th>\n",
       "      <th>brand</th>\n",
       "      <th>total_transactions</th>\n",
       "    </tr>\n",
       "  </thead>\n",
       "  <tbody>\n",
       "    <tr>\n",
       "      <th>0</th>\n",
       "      <td>NERDS CANDY</td>\n",
       "      <td>6</td>\n",
       "    </tr>\n",
       "    <tr>\n",
       "      <th>1</th>\n",
       "      <td>DOVE</td>\n",
       "      <td>6</td>\n",
       "    </tr>\n",
       "    <tr>\n",
       "      <th>2</th>\n",
       "      <td>TRIDENT</td>\n",
       "      <td>4</td>\n",
       "    </tr>\n",
       "    <tr>\n",
       "      <th>3</th>\n",
       "      <td>SOUR PATCH KIDS</td>\n",
       "      <td>4</td>\n",
       "    </tr>\n",
       "    <tr>\n",
       "      <th>4</th>\n",
       "      <td>MEIJER</td>\n",
       "      <td>4</td>\n",
       "    </tr>\n",
       "  </tbody>\n",
       "</table>\n",
       "</div>"
      ],
      "text/plain": [
       "             brand  total_transactions\n",
       "0      NERDS CANDY                   6\n",
       "1             DOVE                   6\n",
       "2          TRIDENT                   4\n",
       "3  SOUR PATCH KIDS                   4\n",
       "4           MEIJER                   4"
      ]
     },
     "metadata": {},
     "output_type": "display_data"
    }
   ],
   "source": [
    "\n",
    "\n",
    "query = \"\"\"\n",
    "WITH cte AS (\n",
    "    SELECT COUNT(t.RECEIPT_ID) AS transaction_count,\n",
    "           p.brand AS brand,\n",
    "           CAST((JULIANDAY(SUBSTR(t.SCAN_DATE, 1, 19)) - JULIANDAY(SUBSTR(u.CREATED_DATE, 1, 19))) / 12 AS INTEGER) AS months\n",
    "    FROM Transactions t\n",
    "    LEFT JOIN Users u ON u.id = t.user_id\n",
    "    LEFT JOIN Products p ON p.barcode = t.barcode\n",
    "    GROUP BY brand, months\n",
    "    HAVING months >= 6 AND brand IS NOT NULL\n",
    ")\n",
    "\n",
    "SELECT brand, SUM(transaction_count) AS total_transactions\n",
    "FROM cte\n",
    "GROUP BY brand\n",
    "ORDER BY total_transactions DESC\n",
    "LIMIT 5;\n",
    "\"\"\"\n",
    "result=pd.read_sql(query,connect)\n",
    "display(result)"
   ]
  },
  {
   "cell_type": "markdown",
   "id": "d766d5e6",
   "metadata": {},
   "source": [
    "## Open ended questions 2: Which is the leading brand in the Dips & Salsa category?\n",
    "\n",
    "### Assumption:  \n",
    "### There are 847 Dip & Salsa brands that had transactions. The brand sizes show significant variation in terms of product size, transaction amount and sales. With exploration, I define the leading brand as those with top 10 final sales"
   ]
  },
  {
   "cell_type": "code",
   "execution_count": 65,
   "id": "70c7f01b",
   "metadata": {},
   "outputs": [],
   "source": [
    "import pandas as pd\n",
    "\n",
    "df_tr_before_clean = df_tr.copy()\n",
    "\n",
    "# Ensure FINAL_SALE and FINAL_QUANTITY are numeric \n",
    "df_tr['FINAL_SALE'] = pd.to_numeric(df_tr['FINAL_SALE'], errors='coerce')\n",
    "df_tr['FINAL_QUANTITY'] = pd.to_numeric(df_tr['FINAL_QUANTITY'], errors='coerce')\n",
    "\n",
    "# # Assume that all \"Zero\" having  final_quantity equals to one\n",
    "# df_tr['FINAL_QUANTITY'] = df_tr['FINAL_QUANTITY'].apply(\n",
    "#     lambda x: float(x) if pd.to_numeric(x, errors='coerce') is not None\n",
    "#     and pd.notna(pd.to_numeric(x, errors='coerce')) else 1.00)"
   ]
  },
  {
   "cell_type": "markdown",
   "id": "a0fb3115",
   "metadata": {},
   "source": [
    "### Data Cleaning - Select the maximum quantity and sale from the transaction table group by receipt id"
   ]
  },
  {
   "cell_type": "code",
   "execution_count": 66,
   "id": "8e3324d5",
   "metadata": {},
   "outputs": [
    {
     "data": {
      "text/html": [
       "<div>\n",
       "<style scoped>\n",
       "    .dataframe tbody tr th:only-of-type {\n",
       "        vertical-align: middle;\n",
       "    }\n",
       "\n",
       "    .dataframe tbody tr th {\n",
       "        vertical-align: top;\n",
       "    }\n",
       "\n",
       "    .dataframe thead th {\n",
       "        text-align: right;\n",
       "    }\n",
       "</style>\n",
       "<table border=\"1\" class=\"dataframe\">\n",
       "  <thead>\n",
       "    <tr style=\"text-align: right;\">\n",
       "      <th></th>\n",
       "      <th>RECEIPT_ID</th>\n",
       "      <th>PURCHASE_DATE</th>\n",
       "      <th>SCAN_DATE</th>\n",
       "      <th>STORE_NAME</th>\n",
       "      <th>USER_ID</th>\n",
       "      <th>BARCODE</th>\n",
       "      <th>FINAL_QUANTITY</th>\n",
       "      <th>FINAL_SALE</th>\n",
       "    </tr>\n",
       "  </thead>\n",
       "  <tbody>\n",
       "    <tr>\n",
       "      <th>0</th>\n",
       "      <td>37d16504-2963-458f-8f7a-bd9a0f9ea2e0</td>\n",
       "      <td>2024-06-24</td>\n",
       "      <td>2024-06-24 23:12:30.285 Z</td>\n",
       "      <td>SMITH'S</td>\n",
       "      <td>5dd3644ee08e9248200b5124</td>\n",
       "      <td>72945612815.00</td>\n",
       "      <td>zero</td>\n",
       "      <td>3.49</td>\n",
       "    </tr>\n",
       "    <tr>\n",
       "      <th>1</th>\n",
       "      <td>37d16504-2963-458f-8f7a-bd9a0f9ea2e0</td>\n",
       "      <td>2024-06-24</td>\n",
       "      <td>2024-06-24 23:12:30.285 Z</td>\n",
       "      <td>SMITH'S</td>\n",
       "      <td>5dd3644ee08e9248200b5124</td>\n",
       "      <td>72945612815.00</td>\n",
       "      <td>1.00</td>\n",
       "      <td>3.49</td>\n",
       "    </tr>\n",
       "  </tbody>\n",
       "</table>\n",
       "</div>"
      ],
      "text/plain": [
       "                             RECEIPT_ID PURCHASE_DATE  \\\n",
       "0  37d16504-2963-458f-8f7a-bd9a0f9ea2e0    2024-06-24   \n",
       "1  37d16504-2963-458f-8f7a-bd9a0f9ea2e0    2024-06-24   \n",
       "\n",
       "                   SCAN_DATE STORE_NAME                   USER_ID  \\\n",
       "0  2024-06-24 23:12:30.285 Z    SMITH'S  5dd3644ee08e9248200b5124   \n",
       "1  2024-06-24 23:12:30.285 Z    SMITH'S  5dd3644ee08e9248200b5124   \n",
       "\n",
       "         BARCODE FINAL_QUANTITY FINAL_SALE  \n",
       "0 72945612815.00           zero       3.49  \n",
       "1 72945612815.00           1.00       3.49  "
      ]
     },
     "metadata": {},
     "output_type": "display_data"
    }
   ],
   "source": [
    "# Example of duplicate receipt\n",
    "dataset={\"Products\":df_pd,\"Transactions\":df_tr_before_clean,\"Users\":df_ur}\n",
    "\n",
    "for name,df in dataset.items():\n",
    "    df.to_sql(name,connect,if_exists=\"replace\",index=False)\n",
    "\n",
    "query= \"Select * from transactions where BARCODE==72945612815.00 and PURCHASE_DATE='2024-06-24'\"\n",
    "result=pd.read_sql(query,connect)\n",
    "display(result.head(10))"
   ]
  },
  {
   "cell_type": "code",
   "execution_count": 67,
   "id": "674d80d2",
   "metadata": {
    "pycharm": {
     "is_executing": true
    },
    "scrolled": true
   },
   "outputs": [
    {
     "data": {
      "text/html": [
       "<div>\n",
       "<style scoped>\n",
       "    .dataframe tbody tr th:only-of-type {\n",
       "        vertical-align: middle;\n",
       "    }\n",
       "\n",
       "    .dataframe tbody tr th {\n",
       "        vertical-align: top;\n",
       "    }\n",
       "\n",
       "    .dataframe thead th {\n",
       "        text-align: right;\n",
       "    }\n",
       "</style>\n",
       "<table border=\"1\" class=\"dataframe\">\n",
       "  <thead>\n",
       "    <tr style=\"text-align: right;\">\n",
       "      <th></th>\n",
       "      <th>RECEIPT_ID</th>\n",
       "      <th>PURCHASE_DATE</th>\n",
       "      <th>SCAN_DATE</th>\n",
       "      <th>STORE_NAME</th>\n",
       "      <th>USER_ID</th>\n",
       "      <th>BARCODE</th>\n",
       "      <th>FINAL_QUANTITY</th>\n",
       "      <th>FINAL_SALE</th>\n",
       "    </tr>\n",
       "  </thead>\n",
       "  <tbody>\n",
       "    <tr>\n",
       "      <th>0</th>\n",
       "      <td>0000d256-4041-4a3e-adc4-5623fb6e0c99</td>\n",
       "      <td>2024-08-21</td>\n",
       "      <td>2024-08-21 14:19:06.539 Z</td>\n",
       "      <td>WALMART</td>\n",
       "      <td>63b73a7f3d310dceeabd4758</td>\n",
       "      <td>15300014978.00</td>\n",
       "      <td>1.00</td>\n",
       "      <td>1.54</td>\n",
       "    </tr>\n",
       "    <tr>\n",
       "      <th>1</th>\n",
       "      <td>00017e0a-7851-42fb-bfab-0baa96e23586</td>\n",
       "      <td>2024-08-18</td>\n",
       "      <td>2024-08-19 15:38:56.813 Z</td>\n",
       "      <td>WALMART</td>\n",
       "      <td>60842f207ac8b7729e472020</td>\n",
       "      <td>78742229751.00</td>\n",
       "      <td>1.00</td>\n",
       "      <td>2.54</td>\n",
       "    </tr>\n",
       "    <tr>\n",
       "      <th>2</th>\n",
       "      <td>000239aa-3478-453d-801e-66a82e39c8af</td>\n",
       "      <td>2024-06-18</td>\n",
       "      <td>2024-06-19 11:03:37.468 Z</td>\n",
       "      <td>FOOD LION</td>\n",
       "      <td>63fcd7cea4f8442c3386b589</td>\n",
       "      <td>783399746536.00</td>\n",
       "      <td>1.00</td>\n",
       "      <td>3.49</td>\n",
       "    </tr>\n",
       "    <tr>\n",
       "      <th>3</th>\n",
       "      <td>00026b4c-dfe8-49dd-b026-4c2f0fd5c6a1</td>\n",
       "      <td>2024-07-04</td>\n",
       "      <td>2024-07-05 15:56:43.549 Z</td>\n",
       "      <td>RANDALLS</td>\n",
       "      <td>6193231ae9b3d75037b0f928</td>\n",
       "      <td>47900501183.00</td>\n",
       "      <td>1.00</td>\n",
       "      <td>5.29</td>\n",
       "    </tr>\n",
       "    <tr>\n",
       "      <th>4</th>\n",
       "      <td>0002d8cd-1701-4cdd-a524-b70402e2dbc0</td>\n",
       "      <td>2024-06-24</td>\n",
       "      <td>2024-06-24 19:44:54.247 Z</td>\n",
       "      <td>WALMART</td>\n",
       "      <td>5dcc6c510040a012b8e76924</td>\n",
       "      <td>681131411295.00</td>\n",
       "      <td>1.00</td>\n",
       "      <td>1.46</td>\n",
       "    </tr>\n",
       "    <tr>\n",
       "      <th>...</th>\n",
       "      <td>...</td>\n",
       "      <td>...</td>\n",
       "      <td>...</td>\n",
       "      <td>...</td>\n",
       "      <td>...</td>\n",
       "      <td>...</td>\n",
       "      <td>...</td>\n",
       "      <td>...</td>\n",
       "    </tr>\n",
       "    <tr>\n",
       "      <th>21974</th>\n",
       "      <td>fff60bb7-bf93-4e6b-8055-4d7688da7ead</td>\n",
       "      <td>2024-08-29</td>\n",
       "      <td>2024-08-29 23:47:50.471 Z</td>\n",
       "      <td>WALMART</td>\n",
       "      <td>5eb887f71699c213b1abe2e1</td>\n",
       "      <td>78742213224.00</td>\n",
       "      <td>1.00</td>\n",
       "      <td>1.23</td>\n",
       "    </tr>\n",
       "    <tr>\n",
       "      <th>21975</th>\n",
       "      <td>fff6c6c8-e002-4262-85ea-25849d9721db</td>\n",
       "      <td>2024-08-30</td>\n",
       "      <td>2024-09-06 18:39:03.161 Z</td>\n",
       "      <td>WALMART</td>\n",
       "      <td>6220b111e9e82c0c6bc24534</td>\n",
       "      <td>78742369822.00</td>\n",
       "      <td>1.00</td>\n",
       "      <td>1.97</td>\n",
       "    </tr>\n",
       "    <tr>\n",
       "      <th>21976</th>\n",
       "      <td>fffbb112-3cc5-47c2-b014-08db2f87e0c7</td>\n",
       "      <td>2024-07-30</td>\n",
       "      <td>2024-08-04 11:43:31.474 Z</td>\n",
       "      <td>WALMART</td>\n",
       "      <td>5eb59d6be7012d13941af5e2</td>\n",
       "      <td>818000020115.00</td>\n",
       "      <td>1.00</td>\n",
       "      <td>4.88</td>\n",
       "    </tr>\n",
       "    <tr>\n",
       "      <th>21977</th>\n",
       "      <td>fffbfb2a-7c1f-41c9-a5da-628fa7fcc746</td>\n",
       "      <td>2024-07-28</td>\n",
       "      <td>2024-07-28 11:47:34.180 Z</td>\n",
       "      <td>WALMART</td>\n",
       "      <td>62a0c8f7d966665570351bb8</td>\n",
       "      <td>13000009546.00</td>\n",
       "      <td>1.00</td>\n",
       "      <td>3.48</td>\n",
       "    </tr>\n",
       "    <tr>\n",
       "      <th>21978</th>\n",
       "      <td>fffe8012-7dcf-4d84-b6c6-feaacab5074a</td>\n",
       "      <td>2024-09-07</td>\n",
       "      <td>2024-09-08 08:21:25.648 Z</td>\n",
       "      <td>WALGREENS</td>\n",
       "      <td>5f53c62bd683c715b9991b20</td>\n",
       "      <td>74323095777.00</td>\n",
       "      <td>2.00</td>\n",
       "      <td>2.98</td>\n",
       "    </tr>\n",
       "  </tbody>\n",
       "</table>\n",
       "<p>21979 rows × 8 columns</p>\n",
       "</div>"
      ],
      "text/plain": [
       "                                 RECEIPT_ID PURCHASE_DATE  \\\n",
       "0      0000d256-4041-4a3e-adc4-5623fb6e0c99    2024-08-21   \n",
       "1      00017e0a-7851-42fb-bfab-0baa96e23586    2024-08-18   \n",
       "2      000239aa-3478-453d-801e-66a82e39c8af    2024-06-18   \n",
       "3      00026b4c-dfe8-49dd-b026-4c2f0fd5c6a1    2024-07-04   \n",
       "4      0002d8cd-1701-4cdd-a524-b70402e2dbc0    2024-06-24   \n",
       "...                                     ...           ...   \n",
       "21974  fff60bb7-bf93-4e6b-8055-4d7688da7ead    2024-08-29   \n",
       "21975  fff6c6c8-e002-4262-85ea-25849d9721db    2024-08-30   \n",
       "21976  fffbb112-3cc5-47c2-b014-08db2f87e0c7    2024-07-30   \n",
       "21977  fffbfb2a-7c1f-41c9-a5da-628fa7fcc746    2024-07-28   \n",
       "21978  fffe8012-7dcf-4d84-b6c6-feaacab5074a    2024-09-07   \n",
       "\n",
       "                       SCAN_DATE STORE_NAME                   USER_ID  \\\n",
       "0      2024-08-21 14:19:06.539 Z    WALMART  63b73a7f3d310dceeabd4758   \n",
       "1      2024-08-19 15:38:56.813 Z    WALMART  60842f207ac8b7729e472020   \n",
       "2      2024-06-19 11:03:37.468 Z  FOOD LION  63fcd7cea4f8442c3386b589   \n",
       "3      2024-07-05 15:56:43.549 Z   RANDALLS  6193231ae9b3d75037b0f928   \n",
       "4      2024-06-24 19:44:54.247 Z    WALMART  5dcc6c510040a012b8e76924   \n",
       "...                          ...        ...                       ...   \n",
       "21974  2024-08-29 23:47:50.471 Z    WALMART  5eb887f71699c213b1abe2e1   \n",
       "21975  2024-09-06 18:39:03.161 Z    WALMART  6220b111e9e82c0c6bc24534   \n",
       "21976  2024-08-04 11:43:31.474 Z    WALMART  5eb59d6be7012d13941af5e2   \n",
       "21977  2024-07-28 11:47:34.180 Z    WALMART  62a0c8f7d966665570351bb8   \n",
       "21978  2024-09-08 08:21:25.648 Z  WALGREENS  5f53c62bd683c715b9991b20   \n",
       "\n",
       "              BARCODE  FINAL_QUANTITY  FINAL_SALE  \n",
       "0      15300014978.00            1.00        1.54  \n",
       "1      78742229751.00            1.00        2.54  \n",
       "2     783399746536.00            1.00        3.49  \n",
       "3      47900501183.00            1.00        5.29  \n",
       "4     681131411295.00            1.00        1.46  \n",
       "...               ...             ...         ...  \n",
       "21974  78742213224.00            1.00        1.23  \n",
       "21975  78742369822.00            1.00        1.97  \n",
       "21976 818000020115.00            1.00        4.88  \n",
       "21977  13000009546.00            1.00        3.48  \n",
       "21978  74323095777.00            2.00        2.98  \n",
       "\n",
       "[21979 rows x 8 columns]"
      ]
     },
     "metadata": {},
     "output_type": "display_data"
    }
   ],
   "source": [
    "df_tr_grouped = df_tr.groupby(['RECEIPT_ID', 'PURCHASE_DATE','SCAN_DATE','STORE_NAME','USER_ID','BARCODE'], as_index=False).agg({\n",
    "    'FINAL_QUANTITY': 'max',   # Max of final sale\n",
    "    'FINAL_SALE': 'max',     # Maximum quantity\n",
    "})\n",
    "\n",
    "display(df_tr_grouped)"
   ]
  },
  {
   "cell_type": "markdown",
   "id": "47b893cf",
   "metadata": {},
   "source": [
    "### Group by Dips and Salsa Brands"
   ]
  },
  {
   "cell_type": "code",
   "execution_count": 68,
   "id": "a32e73a7",
   "metadata": {},
   "outputs": [
    {
     "name": "stdout",
     "output_type": "stream",
     "text": [
      "<class 'pandas.core.frame.DataFrame'>\n",
      "Int64Index: 21 entries, 10733 to 815568\n",
      "Data columns (total 14 columns):\n",
      " #   Column          Non-Null Count  Dtype  \n",
      "---  ------          --------------  -----  \n",
      " 0   CATEGORY_1      21 non-null     object \n",
      " 1   CATEGORY_2      21 non-null     object \n",
      " 2   CATEGORY_3      21 non-null     object \n",
      " 3   CATEGORY_4      0 non-null      object \n",
      " 4   MANUFACTURER    0 non-null      object \n",
      " 5   BRAND           0 non-null      object \n",
      " 6   BARCODE         21 non-null     float64\n",
      " 7   RECEIPT_ID      21 non-null     object \n",
      " 8   PURCHASE_DATE   21 non-null     object \n",
      " 9   SCAN_DATE       21 non-null     object \n",
      " 10  STORE_NAME      21 non-null     object \n",
      " 11  USER_ID         21 non-null     object \n",
      " 12  FINAL_QUANTITY  21 non-null     float64\n",
      " 13  FINAL_SALE      21 non-null     float64\n",
      "dtypes: float64(3), object(11)\n",
      "memory usage: 2.5+ KB\n"
     ]
    }
   ],
   "source": [
    "# There are 21 transaction records in Dips & Salsa category that have no brand. We will ignore this small amount\n",
    "df_pd_tr[\n",
    "    df_pd_tr['BRAND'].isnull() & \n",
    "    df_pd_tr['RECEIPT_ID'].notnull() & \n",
    "    (\n",
    "        (df_pd_tr['CATEGORY_1'] == 'Dips & Salsa') | \n",
    "        (df_pd_tr['CATEGORY_2'] == 'Dips & Salsa') | \n",
    "        (df_pd_tr['CATEGORY_3'] == 'Dips & Salsa') | \n",
    "        (df_pd_tr['CATEGORY_4'] == 'Dips & Salsa')\n",
    "    )\n",
    "].info()"
   ]
  },
  {
   "cell_type": "code",
   "execution_count": 69,
   "id": "b1b26dda",
   "metadata": {},
   "outputs": [],
   "source": [
    "df_pd_tr_ds = df_pd_tr[\n",
    "        (df_pd_tr['CATEGORY_1'] == 'Dips & Salsa') | \n",
    "        (df_pd_tr['CATEGORY_2'] == 'Dips & Salsa') | \n",
    "        (df_pd_tr['CATEGORY_3'] == 'Dips & Salsa') | \n",
    "        (df_pd_tr['CATEGORY_4'] == 'Dips & Salsa')\n",
    "]\n",
    "\n",
    "df_pd_tr_ds = df_pd_tr_ds.groupby(['BRAND'], as_index=False).agg({\n",
    "    'BARCODE': 'nunique', # Product count\n",
    "    'STORE_NAME': 'nunique',  # Store count\n",
    "    'RECEIPT_ID': 'nunique',  # Transaction count\n",
    "    'USER_ID': 'nunique',  # User count\n",
    "    'FINAL_QUANTITY': 'sum',   # Sum of final sale\n",
    "    'FINAL_SALE': 'sum',     # Sum quantity\n",
    "}).sort_values(by='FINAL_SALE', ascending=False)\n"
   ]
  },
  {
   "cell_type": "code",
   "execution_count": 70,
   "id": "ad4f19f4",
   "metadata": {},
   "outputs": [
    {
     "data": {
      "text/html": [
       "<div>\n",
       "<style scoped>\n",
       "    .dataframe tbody tr th:only-of-type {\n",
       "        vertical-align: middle;\n",
       "    }\n",
       "\n",
       "    .dataframe tbody tr th {\n",
       "        vertical-align: top;\n",
       "    }\n",
       "\n",
       "    .dataframe thead th {\n",
       "        text-align: right;\n",
       "    }\n",
       "</style>\n",
       "<table border=\"1\" class=\"dataframe\">\n",
       "  <thead>\n",
       "    <tr style=\"text-align: right;\">\n",
       "      <th></th>\n",
       "      <th>BRAND</th>\n",
       "      <th>BARCODE</th>\n",
       "      <th>STORE_NAME</th>\n",
       "      <th>RECEIPT_ID</th>\n",
       "      <th>USER_ID</th>\n",
       "      <th>FINAL_QUANTITY</th>\n",
       "      <th>FINAL_SALE</th>\n",
       "    </tr>\n",
       "  </thead>\n",
       "  <tbody>\n",
       "    <tr>\n",
       "      <th>772</th>\n",
       "      <td>TOSTITOS</td>\n",
       "      <td>144</td>\n",
       "      <td>16</td>\n",
       "      <td>36</td>\n",
       "      <td>35</td>\n",
       "      <td>38.00</td>\n",
       "      <td>181.30</td>\n",
       "    </tr>\n",
       "    <tr>\n",
       "      <th>295</th>\n",
       "      <td>GOOD FOODS</td>\n",
       "      <td>112</td>\n",
       "      <td>4</td>\n",
       "      <td>9</td>\n",
       "      <td>9</td>\n",
       "      <td>9.00</td>\n",
       "      <td>94.91</td>\n",
       "    </tr>\n",
       "    <tr>\n",
       "      <th>557</th>\n",
       "      <td>PACE</td>\n",
       "      <td>117</td>\n",
       "      <td>8</td>\n",
       "      <td>24</td>\n",
       "      <td>24</td>\n",
       "      <td>24.00</td>\n",
       "      <td>85.75</td>\n",
       "    </tr>\n",
       "    <tr>\n",
       "      <th>266</th>\n",
       "      <td>FRITOS</td>\n",
       "      <td>26</td>\n",
       "      <td>9</td>\n",
       "      <td>19</td>\n",
       "      <td>19</td>\n",
       "      <td>20.00</td>\n",
       "      <td>67.16</td>\n",
       "    </tr>\n",
       "    <tr>\n",
       "      <th>481</th>\n",
       "      <td>MARKETSIDE</td>\n",
       "      <td>58</td>\n",
       "      <td>1</td>\n",
       "      <td>16</td>\n",
       "      <td>16</td>\n",
       "      <td>16.00</td>\n",
       "      <td>65.22</td>\n",
       "    </tr>\n",
       "    <tr>\n",
       "      <th>342</th>\n",
       "      <td>HELUVA GOOD!</td>\n",
       "      <td>23</td>\n",
       "      <td>3</td>\n",
       "      <td>15</td>\n",
       "      <td>15</td>\n",
       "      <td>15.00</td>\n",
       "      <td>53.98</td>\n",
       "    </tr>\n",
       "    <tr>\n",
       "      <th>483</th>\n",
       "      <td>MARZETTI</td>\n",
       "      <td>107</td>\n",
       "      <td>7</td>\n",
       "      <td>11</td>\n",
       "      <td>11</td>\n",
       "      <td>11.00</td>\n",
       "      <td>51.14</td>\n",
       "    </tr>\n",
       "    <tr>\n",
       "      <th>263</th>\n",
       "      <td>FRESHNESS GUARANTEED</td>\n",
       "      <td>17</td>\n",
       "      <td>1</td>\n",
       "      <td>12</td>\n",
       "      <td>12</td>\n",
       "      <td>12.00</td>\n",
       "      <td>46.66</td>\n",
       "    </tr>\n",
       "    <tr>\n",
       "      <th>169</th>\n",
       "      <td>DEAN'S DAIRY DIP</td>\n",
       "      <td>1</td>\n",
       "      <td>4</td>\n",
       "      <td>17</td>\n",
       "      <td>17</td>\n",
       "      <td>17.00</td>\n",
       "      <td>39.95</td>\n",
       "    </tr>\n",
       "    <tr>\n",
       "      <th>349</th>\n",
       "      <td>HIDDEN VALLEY RANCH</td>\n",
       "      <td>40</td>\n",
       "      <td>3</td>\n",
       "      <td>9</td>\n",
       "      <td>9</td>\n",
       "      <td>10.00</td>\n",
       "      <td>38.06</td>\n",
       "    </tr>\n",
       "  </tbody>\n",
       "</table>\n",
       "</div>"
      ],
      "text/plain": [
       "                    BRAND  BARCODE  STORE_NAME  RECEIPT_ID  USER_ID  \\\n",
       "772              TOSTITOS      144          16          36       35   \n",
       "295            GOOD FOODS      112           4           9        9   \n",
       "557                  PACE      117           8          24       24   \n",
       "266                FRITOS       26           9          19       19   \n",
       "481            MARKETSIDE       58           1          16       16   \n",
       "342          HELUVA GOOD!       23           3          15       15   \n",
       "483              MARZETTI      107           7          11       11   \n",
       "263  FRESHNESS GUARANTEED       17           1          12       12   \n",
       "169      DEAN'S DAIRY DIP        1           4          17       17   \n",
       "349   HIDDEN VALLEY RANCH       40           3           9        9   \n",
       "\n",
       "     FINAL_QUANTITY  FINAL_SALE  \n",
       "772           38.00      181.30  \n",
       "295            9.00       94.91  \n",
       "557           24.00       85.75  \n",
       "266           20.00       67.16  \n",
       "481           16.00       65.22  \n",
       "342           15.00       53.98  \n",
       "483           11.00       51.14  \n",
       "263           12.00       46.66  \n",
       "169           17.00       39.95  \n",
       "349           10.00       38.06  "
      ]
     },
     "execution_count": 70,
     "metadata": {},
     "output_type": "execute_result"
    }
   ],
   "source": [
    "df_pd_tr_ds.head(10)"
   ]
  },
  {
   "cell_type": "code",
   "execution_count": 71,
   "id": "75d9b2ef",
   "metadata": {},
   "outputs": [
    {
     "data": {
      "image/png": "[encoded data removed]",
      "text/plain": [
       "<Figure size 576x360 with 1 Axes>"
      ]
     },
     "metadata": {
      "needs_background": "light"
     },
     "output_type": "display_data"
    }
   ],
   "source": [
    "# Plot distribution Final Sale percentile 97 is 12.94\n",
    "plt.figure(figsize=(8, 5))\n",
    "plt.hist(df_pd_tr_ds['FINAL_SALE'], bins=30, edgecolor='black', density=True)\n",
    "plt.axvline(np.percentile(df_pd_tr_ds['FINAL_SALE'], 97), color='r', linestyle='dashed', linewidth=2, label='97th Percentile')\n",
    "plt.xlabel('FINAL_SALE')\n",
    "plt.ylabel('Density')\n",
    "plt.title('Distribution of FINAL_SALE')\n",
    "plt.legend()\n",
    "plt.grid(True)\n",
    "\n",
    "# Show the plot\n",
    "plt.show()"
   ]
  },
  {
   "cell_type": "code",
   "execution_count": 74,
   "id": "bab54f19",
   "metadata": {},
   "outputs": [
    {
     "name": "stdout",
     "output_type": "stream",
     "text": [
      "            FINAL_SALE  STORE_NAME  USER_ID  BARCODE\n",
      "FINAL_SALE        1.00        0.90     0.95     0.31\n",
      "STORE_NAME        0.90        1.00     0.90     0.33\n",
      "USER_ID           0.95        0.90     1.00     0.33\n",
      "BARCODE           0.31        0.33     0.33     1.00\n"
     ]
    },
    {
     "data": {
      "image/png": "[encoded data removed]",
      "text/plain": [
       "<Figure size 432x288 with 2 Axes>"
      ]
     },
     "metadata": {
      "needs_background": "light"
     },
     "output_type": "display_data"
    }
   ],
   "source": [
    "df_corr = df_pd_tr_ds[['FINAL_SALE', 'STORE_NAME', 'USER_ID','BARCODE']].corr()\n",
    "\n",
    "# Print correlation matrix\n",
    "print(df_corr)\n",
    "\n",
    "# Optional: Plot heatmap\n",
    "plt.figure(figsize=(6, 4))\n",
    "sns.heatmap(df_corr, annot=True, cmap='coolwarm', fmt=\".2f\")\n",
    "plt.title(\"Correlation Between Final Sales, Store Count & User Count\")\n",
    "plt.show()"
   ]
  },
  {
   "cell_type": "code",
   "execution_count": null,
   "id": "5cd5d09e",
   "metadata": {},
   "outputs": [],
   "source": []
  }
 ],
 "metadata": {
  "kernelspec": {
   "display_name": "Python 3 (ipykernel)",
   "language": "python",
   "name": "python3"
  },
  "language_info": {
   "codemirror_mode": {
    "name": "ipython",
    "version": 3
   },
   "file_extension": ".py",
   "mimetype": "text/x-python",
   "name": "python",
   "nbconvert_exporter": "python",
   "pygments_lexer": "ipython3",
   "version": "3.9.12"
  }
 },
 "nbformat": 4,
 "nbformat_minor": 5
}
